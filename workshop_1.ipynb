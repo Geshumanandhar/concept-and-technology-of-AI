{
  "nbformat": 4,
  "nbformat_minor": 0,
  "metadata": {
    "colab": {
      "provenance": []
    },
    "kernelspec": {
      "name": "python3",
      "display_name": "Python 3"
    },
    "language_info": {
      "name": "python"
    }
  },
  "cells": [
    {
      "cell_type": "code",
      "execution_count": 8,
      "metadata": {
        "colab": {
          "base_uri": "https://localhost:8080/"
        },
        "collapsed": true,
        "id": "Rgb5XUgBY6gE",
        "outputId": "663e72f8-6f40-4c9a-e78b-44115dfc87dc"
      },
      "outputs": [
        {
          "output_type": "stream",
          "name": "stdout",
          "text": [
            "[[None None]\n",
            " [None None]]\n"
          ]
        }
      ],
      "source": [
        "import numpy as np\n",
        "\n",
        "# Initialize a 2x2 array with uninitialized values (empty)\n",
        "array = np.empty((2, 2), dtype=object)\n",
        "\n",
        "print(array)\n"
      ]
    },
    {
      "cell_type": "code",
      "source": [
        "import numpy as np\n",
        "\n",
        "# Initialize a 4x2 array with all ones\n",
        "array = np.ones((4, 2))\n",
        "\n",
        "print(array)\n"
      ],
      "metadata": {
        "colab": {
          "base_uri": "https://localhost:8080/"
        },
        "id": "q_RYG_JZjDlL",
        "outputId": "e7908f10-ad07-498b-b661-100e881ba6ce"
      },
      "execution_count": 6,
      "outputs": [
        {
          "output_type": "stream",
          "name": "stdout",
          "text": [
            "[[1. 1.]\n",
            " [1. 1.]\n",
            " [1. 1.]\n",
            " [1. 1.]]\n"
          ]
        }
      ]
    },
    {
      "cell_type": "code",
      "source": [
        "import numpy as np\n",
        "\n",
        "# Create a 3x3 array of type float, filled with the value 7\n",
        "array = np.full((3, 3), 7.0)\n",
        "\n",
        "print(array)\n"
      ],
      "metadata": {
        "colab": {
          "base_uri": "https://localhost:8080/"
        },
        "id": "TDpq2iDHk5K2",
        "outputId": "26c75a08-994f-4deb-d7df-7611bf542088"
      },
      "execution_count": 7,
      "outputs": [
        {
          "output_type": "stream",
          "name": "stdout",
          "text": [
            "[[7. 7. 7.]\n",
            " [7. 7. 7.]\n",
            " [7. 7. 7.]]\n"
          ]
        }
      ]
    },
    {
      "cell_type": "code",
      "source": [
        "import numpy as np\n",
        "\n",
        "# Example array\n",
        "array = np.array([[1, 2, 3], [4, 5, 6]])\n",
        "\n",
        "# Create a new array of zeros with the same shape and type as the original array\n",
        "zeros_array = np.zeros_like(array)\n",
        "\n",
        "print(zeros_array)\n"
      ],
      "metadata": {
        "colab": {
          "base_uri": "https://localhost:8080/"
        },
        "id": "axSio74blRp5",
        "outputId": "8a42de41-e9c9-46de-f65f-4f68d185368c"
      },
      "execution_count": 9,
      "outputs": [
        {
          "output_type": "stream",
          "name": "stdout",
          "text": [
            "[[0 0 0]\n",
            " [0 0 0]]\n"
          ]
        }
      ]
    },
    {
      "cell_type": "code",
      "source": [
        "import numpy as np\n",
        "\n",
        "# Example array\n",
        "array = np.array([[1, 2, 3], [4, 5, 6]])\n",
        "\n",
        "# Create a new array of ones with the same shape and type as the original array\n",
        "ones_array = np.ones_like(array)\n",
        "\n",
        "print(ones_array)\n"
      ],
      "metadata": {
        "colab": {
          "base_uri": "https://localhost:8080/"
        },
        "id": "g51Ati9Hl7NT",
        "outputId": "08dda288-8664-49e5-e9d3-56a03f025120"
      },
      "execution_count": 10,
      "outputs": [
        {
          "output_type": "stream",
          "name": "stdout",
          "text": [
            "[[1 1 1]\n",
            " [1 1 1]]\n"
          ]
        }
      ]
    },
    {
      "cell_type": "code",
      "source": [
        "import numpy as np\n",
        "\n",
        "# Existing list\n",
        "new_list = [1, 2, 3, 4]\n",
        "\n",
        "# Convert the list to a NumPy array\n",
        "array = np.array(new_list)\n",
        "\n",
        "print(array)\n"
      ],
      "metadata": {
        "colab": {
          "base_uri": "https://localhost:8080/"
        },
        "id": "nfPzBRh2l_5W",
        "outputId": "ef690d79-530f-43db-e98e-dda98297a4cf"
      },
      "execution_count": 11,
      "outputs": [
        {
          "output_type": "stream",
          "name": "stdout",
          "text": [
            "[1 2 3 4]\n"
          ]
        }
      ]
    },
    {
      "cell_type": "markdown",
      "source": [
        "problem 2\n"
      ],
      "metadata": {
        "id": "0nhzxcmOmSjE"
      }
    },
    {
      "cell_type": "code",
      "source": [
        "\n",
        "import numpy as np\n",
        "\n",
        "# Create an array with values ranging from 10 to 49\n",
        "array = np.arange(10, 50)\n",
        "\n",
        "print(array)\n"
      ],
      "metadata": {
        "colab": {
          "base_uri": "https://localhost:8080/"
        },
        "id": "L9oAbKQfmXOr",
        "outputId": "3af2b58b-613c-48b5-f70a-c2f4bada4c3c"
      },
      "execution_count": 12,
      "outputs": [
        {
          "output_type": "stream",
          "name": "stdout",
          "text": [
            "[10 11 12 13 14 15 16 17 18 19 20 21 22 23 24 25 26 27 28 29 30 31 32 33\n",
            " 34 35 36 37 38 39 40 41 42 43 44 45 46 47 48 49]\n"
          ]
        }
      ]
    },
    {
      "cell_type": "code",
      "source": [
        "import numpy as np\n",
        "\n",
        "# Create an array with values from 0 to 8\n",
        "array = np.arange(9)\n",
        "\n",
        "# Reshape the array into a 3x3 matrix\n",
        "matrix = array.reshape(3, 3)\n",
        "\n",
        "print(matrix)\n"
      ],
      "metadata": {
        "colab": {
          "base_uri": "https://localhost:8080/"
        },
        "id": "N2NeDaQNnX38",
        "outputId": "11714a70-89b6-4a45-8c75-8d6b8b3922fb"
      },
      "execution_count": 13,
      "outputs": [
        {
          "output_type": "stream",
          "name": "stdout",
          "text": [
            "[[0 1 2]\n",
            " [3 4 5]\n",
            " [6 7 8]]\n"
          ]
        }
      ]
    },
    {
      "cell_type": "code",
      "source": [
        "import numpy as np\n",
        "\n",
        "# Create a 3x3 identity matrix\n",
        "identity_matrix = np.eye(3)\n",
        "\n",
        "print(identity_matrix)\n"
      ],
      "metadata": {
        "colab": {
          "base_uri": "https://localhost:8080/"
        },
        "id": "8NBMOqVBnhCI",
        "outputId": "118ba495-051d-4400-c677-f0f502adc8bc"
      },
      "execution_count": 14,
      "outputs": [
        {
          "output_type": "stream",
          "name": "stdout",
          "text": [
            "[[1. 0. 0.]\n",
            " [0. 1. 0.]\n",
            " [0. 0. 1.]]\n"
          ]
        }
      ]
    },
    {
      "cell_type": "code",
      "source": [
        "import numpy as np\n",
        "\n",
        "# Create a random array of size 30 with values between 0 and 1\n",
        "random_array = np.random.random(30)\n",
        "\n",
        "# Calculate the mean of the array\n",
        "mean_value = random_array.mean()\n",
        "\n",
        "print(\"Random Array:\", random_array)\n",
        "print(\"Mean of the array:\", mean_value)\n"
      ],
      "metadata": {
        "colab": {
          "base_uri": "https://localhost:8080/"
        },
        "id": "t9GrxuAFnooj",
        "outputId": "df0790bd-bb6f-4b5c-edc2-7475800ca511"
      },
      "execution_count": 15,
      "outputs": [
        {
          "output_type": "stream",
          "name": "stdout",
          "text": [
            "Random Array: [0.73914691 0.74528419 0.87149565 0.93271094 0.12101008 0.44040788\n",
            " 0.2377366  0.95495621 0.96028503 0.33480583 0.07514657 0.89421134\n",
            " 0.9777727  0.11021352 0.3183583  0.1697635  0.57122737 0.35429011\n",
            " 0.27068494 0.79094992 0.97947971 0.6782995  0.57933887 0.65350206\n",
            " 0.47645548 0.14944194 0.09339331 0.62907462 0.65498438 0.80470636]\n",
            "Mean of the array: 0.5523044604656696\n"
          ]
        }
      ]
    },
    {
      "cell_type": "code",
      "source": [
        "import numpy as np\n",
        "\n",
        "# Create a 10x10 array with random values between 0 and 1\n",
        "random_array = np.random.random((10, 10))\n",
        "\n",
        "# Find the minimum and maximum values in the array\n",
        "min_value = random_array.min()\n",
        "max_value = random_array.max()\n",
        "\n",
        "print(\"Random 10x10 Array:\\n\", random_array)\n",
        "print(\"Minimum value:\", min_value)\n",
        "print(\"Maximum value:\", max_value)\n"
      ],
      "metadata": {
        "colab": {
          "base_uri": "https://localhost:8080/"
        },
        "id": "RB6lXQocnzUH",
        "outputId": "d2b6438e-d105-4708-ed4e-61ce9b9a60e1"
      },
      "execution_count": 16,
      "outputs": [
        {
          "output_type": "stream",
          "name": "stdout",
          "text": [
            "Random 10x10 Array:\n",
            " [[0.53833419 0.31187523 0.97953082 0.35448948 0.06305538 0.35847127\n",
            "  0.58854726 0.39083273 0.1694895  0.99221463]\n",
            " [0.54420533 0.94271711 0.63187952 0.75771508 0.44141238 0.49728828\n",
            "  0.74632189 0.81239043 0.01559754 0.19063572]\n",
            " [0.62330059 0.20964196 0.55882563 0.81955925 0.81496453 0.6342935\n",
            "  0.10742293 0.99839935 0.29570116 0.36882894]\n",
            " [0.38793135 0.46630844 0.50002889 0.12748553 0.58167418 0.95835211\n",
            "  0.00226933 0.79677127 0.04982588 0.2624684 ]\n",
            " [0.82919191 0.40701308 0.81562026 0.90450863 0.20926496 0.51059884\n",
            "  0.51207246 0.98193627 0.86824885 0.00598857]\n",
            " [0.85309798 0.13851353 0.46734763 0.2925275  0.1921548  0.35558964\n",
            "  0.5397659  0.368393   0.60517852 0.66665517]\n",
            " [0.65167257 0.71007507 0.60294103 0.85486927 0.12463823 0.23244901\n",
            "  0.31936108 0.82501552 0.83772355 0.00442448]\n",
            " [0.04964243 0.20041077 0.47746524 0.08641554 0.43913478 0.8559746\n",
            "  0.06650146 0.99166664 0.02292476 0.50565085]\n",
            " [0.61836556 0.28413963 0.2371949  0.22035498 0.28916521 0.2318897\n",
            "  0.16048907 0.18994093 0.75756134 0.85192221]\n",
            " [0.91001179 0.97949055 0.79885517 0.1398471  0.45263059 0.16621831\n",
            "  0.23309669 0.85061799 0.14580725 0.49257526]]\n",
            "Minimum value: 0.00226933231071369\n",
            "Maximum value: 0.9983993500565076\n"
          ]
        }
      ]
    },
    {
      "cell_type": "code",
      "source": [
        "import numpy as np\n",
        "\n",
        "# Create a zero array of size 10\n",
        "array = np.zeros(10)\n",
        "\n",
        "# Replace the 5th element (index 4) with 1\n",
        "array[4] = 1\n",
        "\n",
        "print(array)\n"
      ],
      "metadata": {
        "colab": {
          "base_uri": "https://localhost:8080/"
        },
        "id": "UqUW0lBcn97w",
        "outputId": "ef244222-2539-4ae3-c8ef-ea87cffe3e64"
      },
      "execution_count": 17,
      "outputs": [
        {
          "output_type": "stream",
          "name": "stdout",
          "text": [
            "[0. 0. 0. 0. 1. 0. 0. 0. 0. 0.]\n"
          ]
        }
      ]
    },
    {
      "cell_type": "code",
      "source": [
        "import numpy as np\n",
        "\n",
        "# Define the array\n",
        "arr = np.array([1, 2, 0, 0, 4, 0])\n",
        "\n",
        "# Reverse the array using slicing\n",
        "reversed_arr = arr[::-1]\n",
        "\n",
        "print(reversed_arr)\n"
      ],
      "metadata": {
        "colab": {
          "base_uri": "https://localhost:8080/"
        },
        "id": "D5ZSscjzoFyH",
        "outputId": "50a02655-48a7-4dcd-e3a7-4923257a64bc"
      },
      "execution_count": 18,
      "outputs": [
        {
          "output_type": "stream",
          "name": "stdout",
          "text": [
            "[0 4 0 0 2 1]\n"
          ]
        }
      ]
    },
    {
      "cell_type": "code",
      "source": [
        "import numpy as np\n",
        "\n",
        "# Define the size of the array (e.g., 5x5)\n",
        "size = 5\n",
        "\n",
        "# Create a 2D array filled with zeros\n",
        "array = np.zeros((size, size))\n",
        "\n",
        "# Set the border elements to 1\n",
        "array[0, :] = 1  # Top row\n",
        "array[-1, :] = 1  # Bottom row\n",
        "array[:, 0] = 1  # Left column\n",
        "array[:, -1] = 1  # Right column\n",
        "\n",
        "print(array)\n"
      ],
      "metadata": {
        "colab": {
          "base_uri": "https://localhost:8080/"
        },
        "id": "IDDnrOSPoPsL",
        "outputId": "0d2d66b1-947c-4676-a629-3b1ebf8c896b"
      },
      "execution_count": 19,
      "outputs": [
        {
          "output_type": "stream",
          "name": "stdout",
          "text": [
            "[[1. 1. 1. 1. 1.]\n",
            " [1. 0. 0. 0. 1.]\n",
            " [1. 0. 0. 0. 1.]\n",
            " [1. 0. 0. 0. 1.]\n",
            " [1. 1. 1. 1. 1.]]\n"
          ]
        }
      ]
    },
    {
      "cell_type": "code",
      "source": [
        "import numpy as np\n",
        "\n",
        "# Create an 8x8 matrix filled with zeros\n",
        "matrix = np.zeros((8, 8))\n",
        "\n",
        "# Fill the checkerboard pattern\n",
        "matrix[1::2, ::2] = 1  # Fill alternating rows and columns with 1\n",
        "matrix[::2, 1::2] = 1  # Fill the other alternating rows and columns with 1\n",
        "\n",
        "print(matrix)\n"
      ],
      "metadata": {
        "colab": {
          "base_uri": "https://localhost:8080/"
        },
        "id": "18CvPq8GoYKG",
        "outputId": "ba5da4a3-be1b-42d6-dfae-ad4730479116"
      },
      "execution_count": 20,
      "outputs": [
        {
          "output_type": "stream",
          "name": "stdout",
          "text": [
            "[[0. 1. 0. 1. 0. 1. 0. 1.]\n",
            " [1. 0. 1. 0. 1. 0. 1. 0.]\n",
            " [0. 1. 0. 1. 0. 1. 0. 1.]\n",
            " [1. 0. 1. 0. 1. 0. 1. 0.]\n",
            " [0. 1. 0. 1. 0. 1. 0. 1.]\n",
            " [1. 0. 1. 0. 1. 0. 1. 0.]\n",
            " [0. 1. 0. 1. 0. 1. 0. 1.]\n",
            " [1. 0. 1. 0. 1. 0. 1. 0.]]\n"
          ]
        }
      ]
    },
    {
      "cell_type": "markdown",
      "source": [
        "problem 3\n"
      ],
      "metadata": {
        "id": "k0vOgDhIogF0"
      }
    },
    {
      "cell_type": "code",
      "source": [
        "import numpy as np\n",
        "\n",
        "# Define the arrays\n",
        "x = np.array([[1, 2], [3, 5]])\n",
        "y = np.array([[5, 6], [7, 8]])\n",
        "v = np.array([9, 10])\n",
        "w = np.array([11, 12])\n",
        "\n",
        "\n",
        "\n",
        "add_result = x + y\n",
        "print(\"Addition of x and y:\\n\", add_result)\n",
        "\n"
      ],
      "metadata": {
        "colab": {
          "base_uri": "https://localhost:8080/"
        },
        "id": "cdlVZbgkoieH",
        "outputId": "4d06e219-0ddf-41c7-88b3-61bdc906fdfc"
      },
      "execution_count": 22,
      "outputs": [
        {
          "output_type": "stream",
          "name": "stdout",
          "text": [
            "Addition of x and y:\n",
            " [[ 6  8]\n",
            " [10 13]]\n"
          ]
        }
      ]
    },
    {
      "cell_type": "code",
      "source": [
        "import numpy as np\n",
        "\n",
        "# Define the arrays\n",
        "x = np.array([[1, 2], [3, 5]])\n",
        "y = np.array([[5, 6], [7, 8]])\n",
        "v = np.array([9, 10])\n",
        "w = np.array([11, 12])\n",
        "\n",
        "\n",
        "subtract_result = x - y\n",
        "print(\"Subtraction of x and y:\\n\", subtract_result)\n"
      ],
      "metadata": {
        "colab": {
          "base_uri": "https://localhost:8080/"
        },
        "id": "IK5XO8jvpDMB",
        "outputId": "4d553a99-b158-4305-d3b5-441655543817"
      },
      "execution_count": 23,
      "outputs": [
        {
          "output_type": "stream",
          "name": "stdout",
          "text": [
            "Subtraction of x and y:\n",
            " [[-4 -4]\n",
            " [-4 -3]]\n"
          ]
        }
      ]
    },
    {
      "cell_type": "code",
      "source": [
        "import numpy as np\n",
        "\n",
        "# Define the arrays\n",
        "x = np.array([[1, 2], [3, 5]])\n",
        "y = np.array([[5, 6], [7, 8]])\n",
        "v = np.array([9, 10])\n",
        "w = np.array([11, 12])\n",
        "\n",
        "multiply_result = x * 2\n",
        "print(\"Multiplication of x by 2:\\n\", multiply_result)\n"
      ],
      "metadata": {
        "colab": {
          "base_uri": "https://localhost:8080/"
        },
        "id": "AHR3d3OApLxn",
        "outputId": "7a624696-1eaf-4892-f2bc-6e0c5c0b0a2a"
      },
      "execution_count": 24,
      "outputs": [
        {
          "output_type": "stream",
          "name": "stdout",
          "text": [
            "Multiplication of x by 2:\n",
            " [[ 2  4]\n",
            " [ 6 10]]\n"
          ]
        }
      ]
    },
    {
      "cell_type": "code",
      "source": [
        "import numpy as np\n",
        "\n",
        "# Define the arrays\n",
        "x = np.array([[1, 2], [3, 5]])\n",
        "y = np.array([[5, 6], [7, 8]])\n",
        "v = np.array([9, 10])\n",
        "w = np.array([11, 12])\n",
        "\n",
        "square_result = np.square(x)\n",
        "print(\"Square of each element in x:\\n\", square_result)\n"
      ],
      "metadata": {
        "colab": {
          "base_uri": "https://localhost:8080/"
        },
        "id": "OnVLNDOlpXeh",
        "outputId": "398e77b5-c72c-4a70-9898-0eac2441cf60"
      },
      "execution_count": 25,
      "outputs": [
        {
          "output_type": "stream",
          "name": "stdout",
          "text": [
            "Square of each element in x:\n",
            " [[ 1  4]\n",
            " [ 9 25]]\n"
          ]
        }
      ]
    },
    {
      "cell_type": "code",
      "source": [
        "import numpy as np\n",
        "\n",
        "# Define the arrays\n",
        "x = np.array([[1, 2], [3, 5]])\n",
        "y = np.array([[5, 6], [7, 8]])\n",
        "v = np.array([9, 10])\n",
        "w = np.array([11, 12])\n",
        "\n",
        "dot_v_w = np.dot(v, w)\n",
        "print(\"Dot product of v and w:\", dot_v_w)\n"
      ],
      "metadata": {
        "colab": {
          "base_uri": "https://localhost:8080/"
        },
        "id": "B9dSb3HIpjEc",
        "outputId": "d6c0a4ea-3475-44c6-afd4-06b12a0f65b3"
      },
      "execution_count": 26,
      "outputs": [
        {
          "output_type": "stream",
          "name": "stdout",
          "text": [
            "Dot product of v and w: 219\n"
          ]
        }
      ]
    },
    {
      "cell_type": "code",
      "source": [
        "import numpy as np\n",
        "\n",
        "# Define the arrays\n",
        "x = np.array([[1, 2], [3, 5]])\n",
        "y = np.array([[5, 6], [7, 8]])\n",
        "v = np.array([9, 10])\n",
        "w = np.array([11, 12])\n",
        "\n",
        "dot_x_v = np.dot(x, v)\n",
        "print(\"Dot product of x and v:\", dot_x_v)\n"
      ],
      "metadata": {
        "colab": {
          "base_uri": "https://localhost:8080/"
        },
        "id": "t7RBMqTIpqfY",
        "outputId": "a11b11e3-b78b-4265-cab0-1b6e3d629e3b"
      },
      "execution_count": 27,
      "outputs": [
        {
          "output_type": "stream",
          "name": "stdout",
          "text": [
            "Dot product of x and v: [29 77]\n"
          ]
        }
      ]
    },
    {
      "cell_type": "code",
      "source": [
        "import numpy as np\n",
        "\n",
        "# Define the arrays\n",
        "x = np.array([[1, 2], [3, 5]])\n",
        "y = np.array([[5, 6], [7, 8]])\n",
        "v = np.array([9, 10])\n",
        "w = np.array([11, 12])\n",
        "\n",
        "dot_x_y = np.dot(x, y)\n",
        "print(\"Dot product of x and y:\\n\", dot_x_y)\n"
      ],
      "metadata": {
        "colab": {
          "base_uri": "https://localhost:8080/"
        },
        "id": "E2l0_2sEpzlE",
        "outputId": "bc6db63a-9732-4cef-ada0-b7662e026f36"
      },
      "execution_count": 28,
      "outputs": [
        {
          "output_type": "stream",
          "name": "stdout",
          "text": [
            "Dot product of x and y:\n",
            " [[19 22]\n",
            " [50 58]]\n"
          ]
        }
      ]
    },
    {
      "cell_type": "code",
      "source": [
        "import numpy as np\n",
        "\n",
        "# Define the arrays\n",
        "x = np.array([[1, 2], [3, 5]])\n",
        "y = np.array([[5, 6], [7, 8]])\n",
        "v = np.array([9, 10])\n",
        "w = np.array([11, 12])\n",
        "\n",
        "concat_x_y = np.concatenate((x, y), axis=0)\n",
        "print(\"Concatenate x and y along rows:\\n\", concat_x_y)\n"
      ],
      "metadata": {
        "colab": {
          "base_uri": "https://localhost:8080/"
        },
        "id": "94pXlGkqp7oJ",
        "outputId": "167aff92-a8f6-48f6-f340-c19c059d0086"
      },
      "execution_count": 29,
      "outputs": [
        {
          "output_type": "stream",
          "name": "stdout",
          "text": [
            "Concatenate x and y along rows:\n",
            " [[1 2]\n",
            " [3 5]\n",
            " [5 6]\n",
            " [7 8]]\n"
          ]
        }
      ]
    },
    {
      "cell_type": "code",
      "source": [
        "import numpy as np\n",
        "\n",
        "# Define the arrays\n",
        "x = np.array([[1, 2], [3, 5]])\n",
        "y = np.array([[5, 6], [7, 8]])\n",
        "v = np.array([9, 10])\n",
        "w = np.array([11, 12])\n",
        "\n",
        "concat_v_w = np.concatenate((v.reshape(-1, 1), w.reshape(-1, 1)), axis=1)\n",
        "print(\"Concatenate v and w along columns:\\n\", concat_v_w)\n",
        "\n",
        "try:\n",
        "    concat_x_v = np.concatenate((x, v), axis=0)\n",
        "    print(\"Concatenate x and v along rows:\\n\", concat_x_v)\n",
        "except Exception as e:\n",
        "    print(\"Error:\", e)\n",
        "\n"
      ],
      "metadata": {
        "colab": {
          "base_uri": "https://localhost:8080/"
        },
        "id": "M7IP2xL7qNkW",
        "outputId": "d549af5f-9869-48a8-c7fa-1e7d7cf9c561"
      },
      "execution_count": 32,
      "outputs": [
        {
          "output_type": "stream",
          "name": "stdout",
          "text": [
            "Concatenate v and w along columns:\n",
            " [[ 9 11]\n",
            " [10 12]]\n",
            "Error: all the input arrays must have same number of dimensions, but the array at index 0 has 2 dimension(s) and the array at index 1 has 1 dimension(s)\n"
          ]
        }
      ]
    },
    {
      "cell_type": "markdown",
      "source": [
        "PROBLEM 4"
      ],
      "metadata": {
        "id": "RawHpPG0sQ3b"
      }
    },
    {
      "cell_type": "code",
      "source": [
        "import numpy as np\n",
        "\n",
        "# Define the matrices A and B\n",
        "A = np.array([[3, 4], [7, 8]])\n",
        "B = np.array([[5, 3], [2, 1]])\n",
        "\n",
        "\n",
        "# Calculate the inverse of A\n",
        "A_inv = np.linalg.inv(A)\n",
        "\n",
        "# Multiply A by its inverse\n",
        "result_A_A_inv = np.dot(A, A_inv)\n",
        "\n",
        "# Identity matrix (2x2)\n",
        "identity_matrix = np.eye(2)\n",
        "\n",
        "print(\"A * A^-1 = \\n\", result_A_A_inv)\n",
        "print(\"Identity Matrix (I): \\n\", identity_matrix)\n",
        "\n",
        "# Check if the result is approximately the identity matrix\n",
        "is_identity = np.allclose(result_A_A_inv, identity_matrix)\n",
        "print(\"Is A * A^-1 equal to I? \", is_identity)\n",
        "\n",
        "\n",
        "# Calculate AB\n",
        "AB = np.dot(A, B)\n",
        "\n",
        "# Calculate BA\n",
        "BA = np.dot(B, A)\n",
        "\n",
        "print(\"AB = \\n\", AB)\n",
        "print(\"BA = \\n\", BA)\n",
        "\n",
        "# Check if AB is equal to BA\n",
        "is_equal = np.allclose(AB, BA)\n",
        "print(\"Is AB equal to BA? \", is_equal)\n",
        "\n",
        "\n",
        "# Calculate (AB)^T\n",
        "AB_T = (np.dot(A, B)).T\n",
        "\n",
        "# Calculate B^T * A^T\n",
        "B_T_A_T = np.dot(B.T, A.T)\n",
        "\n",
        "print(\"Transpose of AB (AB)^T = \\n\", AB_T)\n",
        "print(\"B^T * A^T = \\n\", B_T_A_T)\n",
        "\n",
        "# Check if (AB)^T is equal to B^T * A^T\n",
        "is_equal_transpose = np.allclose(AB_T, B_T_A_T)\n",
        "print(\"Is (AB)^T equal to B^T * A^T? \", is_equal_transpose)\n",
        "\n",
        "\n"
      ],
      "metadata": {
        "colab": {
          "base_uri": "https://localhost:8080/"
        },
        "id": "IVwlMSOKsS9M",
        "outputId": "74696ebf-303b-4f26-f653-e85165e355c3"
      },
      "execution_count": 33,
      "outputs": [
        {
          "output_type": "stream",
          "name": "stdout",
          "text": [
            "A * A^-1 = \n",
            " [[1.00000000e+00 0.00000000e+00]\n",
            " [1.77635684e-15 1.00000000e+00]]\n",
            "Identity Matrix (I): \n",
            " [[1. 0.]\n",
            " [0. 1.]]\n",
            "Is A * A^-1 equal to I?  True\n",
            "AB = \n",
            " [[23 13]\n",
            " [51 29]]\n",
            "BA = \n",
            " [[36 44]\n",
            " [13 16]]\n",
            "Is AB equal to BA?  False\n",
            "Transpose of AB (AB)^T = \n",
            " [[23 51]\n",
            " [13 29]]\n",
            "B^T * A^T = \n",
            " [[23 51]\n",
            " [13 29]]\n",
            "Is (AB)^T equal to B^T * A^T?  True\n"
          ]
        }
      ]
    },
    {
      "cell_type": "code",
      "source": [
        "import numpy as np\n",
        "\n",
        "# Define the coefficient matrix A and the constant matrix B\n",
        "A = np.array([[2, -3, 1],\n",
        "              [1, -1, 2],\n",
        "              [3, 1, -1]])\n",
        "\n",
        "B = np.array([-1, -3, 9])\n",
        "\n",
        "# Calculate the inverse of A\n",
        "A_inv = np.linalg.inv(A)\n",
        "\n",
        "# Solve for X using the formula X = A_inv * B\n",
        "X = np.dot(A_inv, B)\n",
        "\n",
        "print(\"Solution for [x, y, z]:\", X)\n"
      ],
      "metadata": {
        "colab": {
          "base_uri": "https://localhost:8080/"
        },
        "id": "SVUHZFOUsvhc",
        "outputId": "7993981f-4bd8-4024-ab18-34418db40d36"
      },
      "execution_count": 34,
      "outputs": [
        {
          "output_type": "stream",
          "name": "stdout",
          "text": [
            "Solution for [x, y, z]: [ 2.  1. -2.]\n"
          ]
        }
      ]
    },
    {
      "cell_type": "code",
      "source": [
        "import numpy as np\n",
        "\n",
        "# Define the coefficient matrix A and the constant matrix B\n",
        "A = np.array([[2, -3, 1],\n",
        "              [1, -1, 2],\n",
        "              [3, 1, -1]])\n",
        "\n",
        "B = np.array([-1, -3, 9])\n",
        "\n",
        "# Use np.linalg.inv() to calculate the inverse of A\n",
        "A_inv = np.linalg.inv(A)\n",
        "\n",
        "# Solve for X using the formula X = A_inv * B\n",
        "X = np.dot(A_inv, B)\n",
        "\n",
        "print(\"Solution for [x, y, z]:\", X)\n"
      ],
      "metadata": {
        "colab": {
          "base_uri": "https://localhost:8080/"
        },
        "id": "W1XMb75ZsyGV",
        "outputId": "dbdd53db-e98e-4b02-dead-17901a15e089"
      },
      "execution_count": 35,
      "outputs": [
        {
          "output_type": "stream",
          "name": "stdout",
          "text": [
            "Solution for [x, y, z]: [ 2.  1. -2.]\n"
          ]
        }
      ]
    }
  ]
}