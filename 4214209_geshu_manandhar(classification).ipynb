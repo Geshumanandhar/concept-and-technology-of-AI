{
  "nbformat": 4,
  "nbformat_minor": 0,
  "metadata": {
    "colab": {
      "provenance": []
    },
    "kernelspec": {
      "name": "python3",
      "display_name": "Python 3"
    },
    "language_info": {
      "name": "python"
    }
  },
  "cells": [
    {
      "cell_type": "markdown",
      "source": [
        "1.loading and exploring the dataset."
      ],
      "metadata": {
        "id": "BnhXUvNWAOs8"
      }
    },
    {
      "cell_type": "code",
      "execution_count": 1,
      "metadata": {
        "colab": {
          "base_uri": "https://localhost:8080/"
        },
        "id": "Em4zxHeG9ms-",
        "outputId": "ff83df6d-235c-4afc-e5df-8d83cc346ab6"
      },
      "outputs": [
        {
          "output_type": "stream",
          "name": "stdout",
          "text": [
            "   A_id      Size    Weight  Sweetness  Crunchiness  Juiciness  Ripeness  \\\n",
            "0   0.0 -3.970049 -2.512336   5.346330    -1.012009   1.844900  0.329840   \n",
            "1   1.0 -1.195217 -2.839257   3.664059     1.588232   0.853286  0.867530   \n",
            "2   2.0 -0.292024 -1.351282  -1.738429    -0.342616   2.838636 -0.038033   \n",
            "3   3.0 -0.657196 -2.271627   1.324874    -0.097875   3.637970 -3.413761   \n",
            "4   4.0  1.364217 -1.296612  -0.384658    -0.553006   3.030874 -1.303849   \n",
            "\n",
            "        Acidity Quality  \n",
            "0  -0.491590483    good  \n",
            "1  -0.722809367    good  \n",
            "2   2.621636473     bad  \n",
            "3   0.790723217    good  \n",
            "4   0.501984036    good  \n",
            "<class 'pandas.core.frame.DataFrame'>\n",
            "RangeIndex: 4001 entries, 0 to 4000\n",
            "Data columns (total 9 columns):\n",
            " #   Column       Non-Null Count  Dtype  \n",
            "---  ------       --------------  -----  \n",
            " 0   A_id         4000 non-null   float64\n",
            " 1   Size         4000 non-null   float64\n",
            " 2   Weight       4000 non-null   float64\n",
            " 3   Sweetness    4000 non-null   float64\n",
            " 4   Crunchiness  4000 non-null   float64\n",
            " 5   Juiciness    4000 non-null   float64\n",
            " 6   Ripeness     4000 non-null   float64\n",
            " 7   Acidity      4001 non-null   object \n",
            " 8   Quality      4000 non-null   object \n",
            "dtypes: float64(7), object(2)\n",
            "memory usage: 281.4+ KB\n",
            "None\n",
            "              A_id         Size       Weight    Sweetness  Crunchiness  \\\n",
            "count  4000.000000  4000.000000  4000.000000  4000.000000  4000.000000   \n",
            "mean   1999.500000    -0.503015    -0.989547    -0.470479     0.985478   \n",
            "std    1154.844867     1.928059     1.602507     1.943441     1.402757   \n",
            "min       0.000000    -7.151703    -7.149848    -6.894485    -6.055058   \n",
            "25%     999.750000    -1.816765    -2.011770    -1.738425     0.062764   \n",
            "50%    1999.500000    -0.513703    -0.984736    -0.504758     0.998249   \n",
            "75%    2999.250000     0.805526     0.030976     0.801922     1.894234   \n",
            "max    3999.000000     6.406367     5.790714     6.374916     7.619852   \n",
            "\n",
            "         Juiciness     Ripeness  \n",
            "count  4000.000000  4000.000000  \n",
            "mean      0.512118     0.498277  \n",
            "std       1.930286     1.874427  \n",
            "min      -5.961897    -5.864599  \n",
            "25%      -0.801286    -0.771677  \n",
            "50%       0.534219     0.503445  \n",
            "75%       1.835976     1.766212  \n",
            "max       7.364403     7.237837  \n"
          ]
        }
      ],
      "source": [
        "import pandas as pd\n",
        "\n",
        "# Load the dataset\n",
        "file_path = '/content/drive/MyDrive/concept and technology of AI/apple_quality.csv'\n",
        "df = pd.read_csv(file_path)\n",
        "\n",
        "# Explore the dataset\n",
        "print(df.head())          # First few rows\n",
        "print(df.info())          # Data types and missing values\n",
        "print(df.describe())      # Summary statistics\n"
      ]
    },
    {
      "cell_type": "markdown",
      "source": [
        "2.Data cleaning and pre processing"
      ],
      "metadata": {
        "id": "Kvwo432iAcU2"
      }
    },
    {
      "cell_type": "code",
      "source": [
        "# Remove rows with missing or invalid entries\n",
        "df = df.dropna()  # Drop rows with any missing values\n",
        "\n",
        "# Convert 'Acidity' to numeric if possible, coercing errors to NaN\n",
        "df['Acidity'] = pd.to_numeric(df['Acidity'], errors='coerce')\n",
        "\n",
        "# Drop rows with NaN in 'Acidity' after conversion\n",
        "df = df.dropna()\n",
        "\n",
        "# Verify dataset structure after cleaning\n",
        "print(df.info())\n",
        "print(df.head())\n",
        "\n",
        "\n"
      ],
      "metadata": {
        "colab": {
          "base_uri": "https://localhost:8080/"
        },
        "id": "PXd5SQvQ-5hS",
        "outputId": "d0c54312-b268-43fe-def1-3d9fcd944b1f"
      },
      "execution_count": 26,
      "outputs": [
        {
          "output_type": "stream",
          "name": "stdout",
          "text": [
            "<class 'pandas.core.frame.DataFrame'>\n",
            "Index: 4000 entries, 0 to 3999\n",
            "Data columns (total 9 columns):\n",
            " #   Column       Non-Null Count  Dtype  \n",
            "---  ------       --------------  -----  \n",
            " 0   A_id         4000 non-null   float64\n",
            " 1   Size         4000 non-null   float64\n",
            " 2   Weight       4000 non-null   float64\n",
            " 3   Sweetness    4000 non-null   float64\n",
            " 4   Crunchiness  4000 non-null   float64\n",
            " 5   Juiciness    4000 non-null   float64\n",
            " 6   Ripeness     4000 non-null   float64\n",
            " 7   Acidity      4000 non-null   float64\n",
            " 8   Quality      4000 non-null   int64  \n",
            "dtypes: float64(8), int64(1)\n",
            "memory usage: 312.5 KB\n",
            "None\n",
            "   A_id      Size    Weight  Sweetness  Crunchiness  Juiciness  Ripeness  \\\n",
            "0   0.0 -3.970049 -2.512336   5.346330    -1.012009   1.844900  0.329840   \n",
            "1   1.0 -1.195217 -2.839257   3.664059     1.588232   0.853286  0.867530   \n",
            "2   2.0 -0.292024 -1.351282  -1.738429    -0.342616   2.838636 -0.038033   \n",
            "3   3.0 -0.657196 -2.271627   1.324874    -0.097875   3.637970 -3.413761   \n",
            "4   4.0  1.364217 -1.296612  -0.384658    -0.553006   3.030874 -1.303849   \n",
            "\n",
            "    Acidity  Quality  \n",
            "0 -0.491590        1  \n",
            "1 -0.722809        1  \n",
            "2  2.621636        0  \n",
            "3  0.790723        1  \n",
            "4  0.501984        1  \n"
          ]
        }
      ]
    },
    {
      "cell_type": "markdown",
      "source": [
        "2.2 Feature Encoding"
      ],
      "metadata": {
        "id": "mWVycEN6AluN"
      }
    },
    {
      "cell_type": "code",
      "source": [
        "from sklearn.preprocessing import LabelEncoder\n",
        "\n",
        "# Encode target variable\n",
        "encoder = LabelEncoder()\n",
        "df['Quality'] = encoder.fit_transform(df['Quality'])\n",
        "\n",
        "# Save class mappings (e.g., good = 1, bad = 0)\n",
        "class_mapping = dict(zip(encoder.classes_, encoder.transform(encoder.classes_)))\n",
        "print(\"Class Mappings:\", class_mapping)\n",
        "\n"
      ],
      "metadata": {
        "colab": {
          "base_uri": "https://localhost:8080/"
        },
        "id": "FL-_Kln__nXt",
        "outputId": "c627a37a-d5d6-4499-9701-1759910c04d5"
      },
      "execution_count": 27,
      "outputs": [
        {
          "output_type": "stream",
          "name": "stdout",
          "text": [
            "Class Mappings: {0: 0, 1: 1}\n"
          ]
        }
      ]
    },
    {
      "cell_type": "markdown",
      "source": [
        "2.3 Split Data for Training and Testing"
      ],
      "metadata": {
        "id": "Z-DD8cBFAvos"
      }
    },
    {
      "cell_type": "code",
      "source": [
        "from sklearn.model_selection import train_test_split\n",
        "\n",
        "# Define features and target variable\n",
        "X = df.drop(columns=['Quality', 'A_id'])  # Exclude ID and target column\n",
        "y = df['Quality']\n",
        "\n",
        "# Split the data (80% training, 20% testing)\n",
        "X_train, X_test, y_train, y_test = train_test_split(X, y, test_size=0.2, random_state=42)\n",
        "\n",
        "print(\"Training data shape:\", X_train.shape)\n",
        "print(\"Testing data shape:\", X_test.shape)\n"
      ],
      "metadata": {
        "colab": {
          "base_uri": "https://localhost:8080/"
        },
        "id": "8z_g4IyRA4Of",
        "outputId": "ba33c3d1-de77-453c-cd84-1cbcd7570c67"
      },
      "execution_count": 28,
      "outputs": [
        {
          "output_type": "stream",
          "name": "stdout",
          "text": [
            "Training data shape: (3200, 7)\n",
            "Testing data shape: (800, 7)\n"
          ]
        }
      ]
    },
    {
      "cell_type": "markdown",
      "source": [
        "# Feature Scaling"
      ],
      "metadata": {
        "id": "4Juw_W2Qkgn9"
      }
    },
    {
      "cell_type": "code",
      "source": [
        "scaler = StandardScaler()\n",
        "X_train_scaled = scaler.fit_transform(X_train)\n",
        "X_test_scaled = scaler.transform(X_test)"
      ],
      "metadata": {
        "id": "3HOAYl3bkj5F"
      },
      "execution_count": 37,
      "outputs": []
    },
    {
      "cell_type": "markdown",
      "source": [
        "3.1 Logistic Regression\n",
        "\n",
        "\n"
      ],
      "metadata": {
        "id": "yQqhCC-NA9hJ"
      }
    },
    {
      "cell_type": "code",
      "source": [
        "from sklearn.linear_model import LogisticRegression\n",
        "from sklearn.metrics import classification_report, accuracy_score\n",
        "\n",
        "# Initialize and train the model\n",
        "model = LogisticRegression(random_state=42)\n",
        "model.fit(X_train, y_train)\n",
        "\n",
        "# Predict on test data\n",
        "y_pred = model.predict(X_test)\n",
        "\n",
        "# Evaluate the model\n",
        "print(\"Accuracy:\", accuracy_score(y_test, y_pred))\n",
        "print(\"Classification Report:\\n\", classification_report(y_test, y_pred))\n",
        "\n"
      ],
      "metadata": {
        "colab": {
          "base_uri": "https://localhost:8080/"
        },
        "id": "4-LHW0svBbR9",
        "outputId": "665c34bc-de53-4135-a26d-ccdaec7d1aa9"
      },
      "execution_count": 18,
      "outputs": [
        {
          "output_type": "stream",
          "name": "stdout",
          "text": [
            "\n",
            "Feature Importances:\n",
            "       Feature  Importance\n",
            "6     Ripeness    0.156826\n",
            "1         Size    0.151218\n",
            "5    Juiciness    0.148000\n",
            "3    Sweetness    0.143734\n",
            "7      Acidity    0.126053\n",
            "2       Weight    0.114600\n",
            "4  Crunchiness    0.107575\n",
            "0         A_id    0.051994\n"
          ]
        }
      ]
    },
    {
      "cell_type": "code",
      "source": [
        "# Machine Learning Models\n",
        "models = {\n",
        "    'Logistic Regression': LogisticRegression(),\n",
        "    'Random Forest': RandomForestClassifier()\n",
        "}\n",
        "\n",
        "results = {}\n",
        "for name, model in models.items():\n",
        "    model.fit(X_train_scaled, y_train)\n",
        "    y_pred = model.predict(X_test_scaled)\n",
        "    acc = accuracy_score(y_test, y_pred)\n",
        "    results[name] = acc\n",
        "    print(f\"{name} Accuracy: {acc:.4f}\")\n",
        "    print(classification_report(y_test, y_pred))"
      ],
      "metadata": {
        "colab": {
          "base_uri": "https://localhost:8080/"
        },
        "id": "kd1JyGNNlNQK",
        "outputId": "12c22e9a-55c5-484e-b1f7-dc38a388d34b"
      },
      "execution_count": 40,
      "outputs": [
        {
          "output_type": "stream",
          "name": "stdout",
          "text": [
            "Logistic Regression Accuracy: 0.7538\n",
            "              precision    recall  f1-score   support\n",
            "\n",
            "           0       0.75      0.76      0.75       401\n",
            "           1       0.75      0.75      0.75       399\n",
            "\n",
            "    accuracy                           0.75       800\n",
            "   macro avg       0.75      0.75      0.75       800\n",
            "weighted avg       0.75      0.75      0.75       800\n",
            "\n",
            "Random Forest Accuracy: 0.9000\n",
            "              precision    recall  f1-score   support\n",
            "\n",
            "           0       0.90      0.90      0.90       401\n",
            "           1       0.90      0.90      0.90       399\n",
            "\n",
            "    accuracy                           0.90       800\n",
            "   macro avg       0.90      0.90      0.90       800\n",
            "weighted avg       0.90      0.90      0.90       800\n",
            "\n"
          ]
        }
      ]
    },
    {
      "cell_type": "markdown",
      "source": [
        " Hyperparameter Optimization"
      ],
      "metadata": {
        "id": "6UGa2CS_lZug"
      }
    },
    {
      "cell_type": "code",
      "source": [
        "param_grid = {'C': [0.01, 0.1, 1, 10, 100]}\n",
        "grid_search = GridSearchCV(LogisticRegression(), param_grid, cv=5, scoring='accuracy')\n",
        "grid_search.fit(X_train_scaled, y_train)\n",
        "print(\"Best Logistic Regression Parameters:\", grid_search.best_params_)\n",
        "\n",
        "param_grid_rf = {'n_estimators': [10, 50, 100], 'max_depth': [None, 10, 20]}\n",
        "grid_search_rf = GridSearchCV(RandomForestClassifier(), param_grid_rf, cv=5, scoring='accuracy')\n",
        "grid_search_rf.fit(X_train_scaled, y_train)\n",
        "print(\"Best Random Forest Parameters:\", grid_search_rf.best_params_)\n"
      ],
      "metadata": {
        "colab": {
          "base_uri": "https://localhost:8080/"
        },
        "id": "HI1Y5NIFlbBX",
        "outputId": "822317db-61fb-476a-d2f5-a9c725409ac0"
      },
      "execution_count": 41,
      "outputs": [
        {
          "output_type": "stream",
          "name": "stdout",
          "text": [
            "Best Logistic Regression Parameters: {'C': 100}\n",
            "Best Random Forest Parameters: {'max_depth': 20, 'n_estimators': 100}\n"
          ]
        }
      ]
    },
    {
      "cell_type": "markdown",
      "source": [
        "3.2 Random Forest Classifier"
      ],
      "metadata": {
        "id": "_kYBenQlBgcT"
      }
    },
    {
      "cell_type": "code",
      "source": [
        "from sklearn.ensemble import RandomForestClassifier\n",
        "\n",
        "# Initialize and train the model\n",
        "rf_model = RandomForestClassifier(random_state=42)\n",
        "rf_model.fit(X_train, y_train)\n",
        "\n",
        "# Predict on test data\n",
        "rf_y_pred = rf_model.predict(X_test)\n",
        "\n",
        "# Evaluate the model\n",
        "print(\"Accuracy:\", accuracy_score(y_test, rf_y_pred))\n",
        "print(\"Classification Report:\\n\", classification_report(y_test, rf_y_pred))\n"
      ],
      "metadata": {
        "colab": {
          "base_uri": "https://localhost:8080/"
        },
        "id": "H6HQgvysBm20",
        "outputId": "ea3a679e-5007-408d-9458-6bbe5a01543d"
      },
      "execution_count": 29,
      "outputs": [
        {
          "output_type": "stream",
          "name": "stdout",
          "text": [
            "Accuracy: 0.89625\n",
            "Classification Report:\n",
            "               precision    recall  f1-score   support\n",
            "\n",
            "           0       0.90      0.89      0.90       401\n",
            "           1       0.89      0.90      0.90       399\n",
            "\n",
            "    accuracy                           0.90       800\n",
            "   macro avg       0.90      0.90      0.90       800\n",
            "weighted avg       0.90      0.90      0.90       800\n",
            "\n"
          ]
        }
      ]
    },
    {
      "cell_type": "markdown",
      "source": [
        "Step 4:Feature Importance (for Tree-Based Models)"
      ],
      "metadata": {
        "id": "obXOLZbzBrxF"
      }
    },
    {
      "cell_type": "code",
      "source": [
        "import matplotlib.pyplot as plt\n",
        "import numpy as np\n",
        "\n",
        "# Plot feature importance\n",
        "importance = rf_model.feature_importances_\n",
        "features = X.columns\n",
        "\n",
        "plt.figure(figsize=(10, 6))\n",
        "plt.barh(np.arange(len(features)), importance, align='center')\n",
        "plt.yticks(np.arange(len(features)), features)\n",
        "plt.xlabel('Feature Importance')\n",
        "plt.title('Random Forest Feature Importance')\n",
        "plt.show()\n"
      ],
      "metadata": {
        "colab": {
          "base_uri": "https://localhost:8080/",
          "height": 564
        },
        "id": "3r5hgDpoB8PT",
        "outputId": "fbc55479-a792-47c8-bc48-ba50a4d2ea16"
      },
      "execution_count": 30,
      "outputs": [
        {
          "output_type": "display_data",
          "data": {
            "text/plain": [
              "<Figure size 1000x600 with 1 Axes>"
            ],
            "image/png": "[encoded data removed]"
          },
          "metadata": {}
        }
      ]
    },
    {
      "cell_type": "markdown",
      "source": [
        "Step 5: Cross-Validation\n"
      ],
      "metadata": {
        "id": "ZyRpwQYRB-8N"
      }
    },
    {
      "cell_type": "code",
      "source": [
        "from sklearn.model_selection import cross_val_score\n",
        "\n",
        "# Perform cross-validation\n",
        "cv_scores = cross_val_score(rf_model, X, y, cv=5)\n",
        "print(\"Cross-validation scores:\", cv_scores)\n",
        "print(\"Average CV Score:\", cv_scores.mean())\n"
      ],
      "metadata": {
        "colab": {
          "base_uri": "https://localhost:8080/"
        },
        "id": "fOHgNKLWCFnt",
        "outputId": "ce8875ee-e705-4810-a5a1-43237532d054"
      },
      "execution_count": 31,
      "outputs": [
        {
          "output_type": "stream",
          "name": "stdout",
          "text": [
            "Cross-validation scores: [0.89    0.87125 0.89    0.88125 0.88375]\n",
            "Average CV Score: 0.88325\n"
          ]
        }
      ]
    },
    {
      "cell_type": "markdown",
      "source": [
        "Step 6: Save the Model"
      ],
      "metadata": {
        "id": "9uZDUczoCQMn"
      }
    },
    {
      "cell_type": "code",
      "source": [
        "\n",
        "import joblib\n",
        "\n",
        "# Save the model\n",
        "joblib.dump(rf_model, \"apple_quality_classifier.pkl\")\n"
      ],
      "metadata": {
        "colab": {
          "base_uri": "https://localhost:8080/"
        },
        "id": "5HtiulKgCVpu",
        "outputId": "f6996019-6ab7-4067-c07e-f24e662f35d0"
      },
      "execution_count": 32,
      "outputs": [
        {
          "output_type": "execute_result",
          "data": {
            "text/plain": [
              "['apple_quality_classifier.pkl']"
            ]
          },
          "metadata": {},
          "execution_count": 32
        }
      ]
    },
    {
      "cell_type": "markdown",
      "source": [
        "Step 7: User Interaction for Prediction"
      ],
      "metadata": {
        "id": "c-rK6t7RprFp"
      }
    },
    {
      "cell_type": "code",
      "source": [
        "import joblib\n",
        "\n",
        "# Load the trained model\n",
        "loaded_model = joblib.load(\"apple_quality_classifier.pkl\")\n",
        "\n",
        "# Example user input: Ensure 7 features are provided in the correct order\n",
        "user_data = [[1.5, 0.8, 0.6, 1.2, 2.3, -0.4, 0.9]]\n",
        "\n",
        "# Predict without scaling\n",
        "prediction = loaded_model.predict(user_data)\n",
        "\n",
        "# Output the result\n",
        "result = \"Good\" if prediction[0] == 1 else \"Bad\"\n",
        "print(\"Predicted Quality:\", result)\n",
        "\n"
      ],
      "metadata": {
        "colab": {
          "base_uri": "https://localhost:8080/"
        },
        "id": "VqvkJwOOprov",
        "outputId": "7907042d-ae1e-43fb-d76e-7c0abb99609a"
      },
      "execution_count": 33,
      "outputs": [
        {
          "output_type": "stream",
          "name": "stdout",
          "text": [
            "Predicted Quality: Good\n"
          ]
        },
        {
          "output_type": "stream",
          "name": "stderr",
          "text": [
            "/usr/local/lib/python3.10/dist-packages/sklearn/utils/validation.py:2739: UserWarning: X does not have valid feature names, but RandomForestClassifier was fitted with feature names\n",
            "  warnings.warn(\n"
          ]
        }
      ]
    },
    {
      "cell_type": "markdown",
      "source": [
        "Generating and Evaluate Report and confusion matrix"
      ],
      "metadata": {
        "id": "amwxvy7NqND9"
      }
    },
    {
      "cell_type": "code",
      "source": [
        "from sklearn.metrics import classification_report, confusion_matrix\n",
        "import seaborn as sns\n",
        "import matplotlib.pyplot as plt\n",
        "\n",
        "# Assuming X_test and y_test are your testing features and labels\n",
        "y_pred = loaded_model.predict(X_test)\n",
        "\n",
        "# Generate a classification report\n",
        "print(\"Classification Report:\")\n",
        "print(classification_report(y_test, y_pred))\n",
        "\n",
        "# Confusion Matrix\n",
        "cm = confusion_matrix(y_test, y_pred)\n",
        "plt.figure(figsize=(6, 4))\n",
        "sns.heatmap(cm, annot=True, fmt='d', cmap='Blues', xticklabels=[\"Bad\", \"Good\"], yticklabels=[\"Bad\", \"Good\"])\n",
        "plt.xlabel('Predicted')\n",
        "plt.ylabel('Actual')\n",
        "plt.title('Confusion Matrix')\n",
        "plt.show()\n"
      ],
      "metadata": {
        "colab": {
          "base_uri": "https://localhost:8080/",
          "height": 592
        },
        "id": "WPcStEXyqQ3S",
        "outputId": "6696e686-e62c-4956-d5d9-28f161aa7cfe"
      },
      "execution_count": 34,
      "outputs": [
        {
          "output_type": "stream",
          "name": "stdout",
          "text": [
            "Classification Report:\n",
            "              precision    recall  f1-score   support\n",
            "\n",
            "           0       0.90      0.89      0.90       401\n",
            "           1       0.89      0.90      0.90       399\n",
            "\n",
            "    accuracy                           0.90       800\n",
            "   macro avg       0.90      0.90      0.90       800\n",
            "weighted avg       0.90      0.90      0.90       800\n",
            "\n"
          ]
        },
        {
          "output_type": "display_data",
          "data": {
            "text/plain": [
              "<Figure size 600x400 with 2 Axes>"
            ],
            "image/png": "[encoded data removed]"
          },
          "metadata": {}
        }
      ]
    },
    {
      "cell_type": "markdown",
      "source": [
        "\n",
        "Improving the Model"
      ],
      "metadata": {
        "id": "LaXBVZ_5qa1V"
      }
    },
    {
      "cell_type": "code",
      "source": [
        "import pandas as pd\n",
        "feature_importance = loaded_model.feature_importances_\n",
        "features = ['Feature1', 'Feature2', 'Feature3', 'Feature4', 'Feature5', 'Feature6', 'Feature7']\n",
        "importance_df = pd.DataFrame({'Feature': features, 'Importance': feature_importance}).sort_values(by='Importance', ascending=False)\n",
        "print(importance_df)\n"
      ],
      "metadata": {
        "colab": {
          "base_uri": "https://localhost:8080/"
        },
        "id": "EhUdEYktqtzP",
        "outputId": "ebebde9e-e173-476e-ace6-cabca045d6e5"
      },
      "execution_count": 35,
      "outputs": [
        {
          "output_type": "stream",
          "name": "stdout",
          "text": [
            "    Feature  Importance\n",
            "5  Feature6    0.167724\n",
            "0  Feature1    0.162871\n",
            "4  Feature5    0.156634\n",
            "2  Feature3    0.151104\n",
            "6  Feature7    0.133286\n",
            "1  Feature2    0.118328\n",
            "3  Feature4    0.110052\n"
          ]
        }
      ]
    },
    {
      "cell_type": "markdown",
      "source": [
        "Saving the Results"
      ],
      "metadata": {
        "id": "vNBQO9Qwq3hA"
      }
    },
    {
      "cell_type": "code",
      "source": [
        "import pandas as pd\n",
        "\n",
        "# Save predictions with actual labels\n",
        "predictions_df = pd.DataFrame({'Actual': y_test, 'Predicted': y_pred})\n",
        "predictions_df.to_csv(\"classification_results.csv\", index=False)\n"
      ],
      "metadata": {
        "id": "CiNWMqQjrB39"
      },
      "execution_count": 36,
      "outputs": []
    }
  ]
}